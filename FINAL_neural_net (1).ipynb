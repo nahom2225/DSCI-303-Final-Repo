{
 "cells": [
  {
   "cell_type": "code",
   "execution_count": 2,
   "id": "47a438bc",
   "metadata": {},
   "outputs": [],
   "source": [
    "import pandas as pd\n",
    "import seaborn as sns\n",
    "import matplotlib.pyplot as plt\n",
    "import math\n",
    "import numpy as np"
   ]
  },
  {
   "cell_type": "markdown",
   "id": "d23b51ea",
   "metadata": {},
   "source": [
    "# Data Visualization"
   ]
  },
  {
   "cell_type": "code",
   "execution_count": 3,
   "id": "1f5ddd60",
   "metadata": {},
   "outputs": [
    {
     "name": "stdout",
     "output_type": "stream",
     "text": [
      "                     Date     Open     High      Low    Close      Volume  \\\n",
      "0     10/21/2016 16:00:00  2139.43  2142.63  2130.09  2141.16   654860857   \n",
      "1     10/24/2016 16:00:00  2148.50  2154.79  2146.91  2151.33   523564705   \n",
      "2     10/25/2016 16:00:00  2149.72  2151.44  2141.93  2143.16   530792143   \n",
      "3     10/26/2016 16:00:00  2136.97  2145.73  2131.59  2139.43   562087522   \n",
      "4     10/27/2016 16:00:00  2144.06  2147.13  2132.52  2133.04   614708800   \n",
      "...                   ...      ...      ...      ...      ...         ...   \n",
      "1491   9/26/2022 16:00:00  3682.72  3715.67  3644.76  3655.04  2634968922   \n",
      "1492   9/27/2022 16:00:00  3686.44  3717.53  3623.29  3647.29  2548804869   \n",
      "1493   9/28/2022 16:00:00  3651.94  3736.74  3640.61  3719.04  2637914627   \n",
      "1494   9/29/2022 16:00:00  3687.01  3687.01  3610.40  3640.47  2601213630   \n",
      "1495   9/30/2022 16:00:00  3633.48  3671.44  3584.13  3585.62  3146085245   \n",
      "\n",
      "      Previous Day Close  Previous Week Close  Previous Day Interest (EFFR)  \\\n",
      "0                2141.34              2132.98                          0.41   \n",
      "1                2141.16              2126.50                          0.41   \n",
      "2                2151.33              2139.60                          0.41   \n",
      "3                2143.16              2144.29                          0.41   \n",
      "4                2139.43              2141.34                          0.41   \n",
      "...                  ...                  ...                           ...   \n",
      "1491             3693.23              3899.89                          3.08   \n",
      "1492             3655.04              3855.93                          3.08   \n",
      "1493             3647.29              3789.93                          3.08   \n",
      "1494             3719.04              3757.99                          3.08   \n",
      "1495             3640.47              3693.23                          3.08   \n",
      "\n",
      "      Previous Mo. Inflation (CPI)  Label: Next Month Opening  \n",
      "0                              2.2                    2186.43  \n",
      "1                              2.2                    2201.56  \n",
      "2                              2.2                    2198.55  \n",
      "3                              2.2                    2206.27  \n",
      "4                              2.2                    2210.21  \n",
      "...                            ...                        ...  \n",
      "1491                           6.3                    3799.44  \n",
      "1492                           6.3                    3825.97  \n",
      "1493                           6.3                    3834.69  \n",
      "1494                           6.3                    3808.26  \n",
      "1495                           6.3                    3881.85  \n",
      "\n",
      "[1496 rows x 11 columns]\n"
     ]
    }
   ],
   "source": [
    "df = pd.read_csv('Final_Data.csv')\n",
    "df = df[:1496]\n",
    "print(df)"
   ]
  },
  {
   "cell_type": "markdown",
   "id": "6f4566a2",
   "metadata": {},
   "source": [
    "# Data Pre-Processing"
   ]
  },
  {
   "cell_type": "markdown",
   "id": "f525c996",
   "metadata": {},
   "source": [
    "## Features Engineering"
   ]
  },
  {
   "cell_type": "markdown",
   "id": "c09bfd32",
   "metadata": {},
   "source": [
    "Adding feature to capture volatility of the day"
   ]
  },
  {
   "cell_type": "code",
   "execution_count": 4,
   "id": "8abbd32d",
   "metadata": {},
   "outputs": [],
   "source": [
    "df['Day Range'] = df['High'] - df['Low']"
   ]
  },
  {
   "cell_type": "markdown",
   "id": "3bd51da9",
   "metadata": {},
   "source": [
    "Converting Dates to Month and Day Columns"
   ]
  },
  {
   "cell_type": "code",
   "execution_count": 5,
   "id": "b56ec3c2",
   "metadata": {},
   "outputs": [],
   "source": [
    "dates = df[\"Date\"].str.split('/').to_numpy()\n",
    "months = [int(i[0]) for i in dates]\n",
    "day = [int(i[1]) for i in dates]\n",
    "df[\"Months\"] = pd.DataFrame(months)\n",
    "df[\"Day\"] = pd.DataFrame(day)\n",
    "\n",
    "data = df.drop(columns = [\"Date\"])\n",
    "X = data.drop(columns = [\"Label: Next Month Opening\"])\n",
    "y = df[\"Label: Next Month Opening\"]"
   ]
  },
  {
   "cell_type": "markdown",
   "id": "06b11839",
   "metadata": {},
   "source": [
    "Split into training and testing data"
   ]
  },
  {
   "cell_type": "code",
   "execution_count": 6,
   "id": "5c9676b4",
   "metadata": {},
   "outputs": [],
   "source": [
    "X_train = X[:1475]\n",
    "y_train = y[:1475]\n",
    "X_test = X[1475:]\n",
    "y_test = y[1475:]"
   ]
  },
  {
   "cell_type": "markdown",
   "id": "37cc5343",
   "metadata": {},
   "source": [
    "# Neural Network"
   ]
  },
  {
   "cell_type": "markdown",
   "id": "557f7ddf",
   "metadata": {},
   "source": [
    "## Original data, no normalization, no hyperparameter tuning"
   ]
  },
  {
   "cell_type": "code",
   "execution_count": 7,
   "id": "4ece8153",
   "metadata": {},
   "outputs": [],
   "source": [
    "from sklearn.neural_network import MLPRegressor\n",
    "from sklearn.metrics import r2_score\n",
    "from sklearn.metrics import mean_squared_error"
   ]
  },
  {
   "cell_type": "code",
   "execution_count": 31,
   "id": "e4a34dfb",
   "metadata": {},
   "outputs": [
    {
     "name": "stdout",
     "output_type": "stream",
     "text": [
      "-105102.37556116418 860727634.4452158\n"
     ]
    }
   ],
   "source": [
    "r2_avg = 0\n",
    "mse_avg = 0\n",
    "for i in range(100):\n",
    "    rgr = MLPRegressor().fit(X_train, y_train)\n",
    "    y_pred = rgr.predict(X_test)\n",
    "    r2 = r2_score(y_test, y_pred)\n",
    "    r2_avg += r2\n",
    "    mse_avg += mean_squared_error(y_test, y_pred)\n",
    "\n",
    "r2_avg = r2_avg/100\n",
    "mse_avg = mse_avg/100\n",
    "print(r2_avg, mse_avg)"
   ]
  },
  {
   "cell_type": "markdown",
   "id": "97594093",
   "metadata": {},
   "source": [
    "## Feature Selection"
   ]
  },
  {
   "cell_type": "code",
   "execution_count": 9,
   "id": "760d62a3",
   "metadata": {},
   "outputs": [
    {
     "name": "stdout",
     "output_type": "stream",
     "text": [
      "[[], [4], [7], [8], [10], [11], [12], [4, 7], [4, 8], [4, 10], [4, 11], [4, 12], [7, 8], [7, 10], [7, 11], [7, 12], [8, 10], [8, 11], [8, 12], [10, 11], [10, 12], [11, 12], [4, 7, 8], [4, 7, 10], [4, 7, 11], [4, 7, 12], [4, 8, 10], [4, 8, 11], [4, 8, 12], [4, 10, 11], [4, 10, 12], [4, 11, 12], [7, 8, 10], [7, 8, 11], [7, 8, 12], [7, 10, 11], [7, 10, 12], [7, 11, 12], [8, 10, 11], [8, 10, 12], [8, 11, 12], [10, 11, 12], [4, 7, 8, 10], [4, 7, 8, 11], [4, 7, 8, 12], [4, 7, 10, 11], [4, 7, 10, 12], [4, 7, 11, 12], [4, 8, 10, 11], [4, 8, 10, 12], [4, 8, 11, 12], [4, 10, 11, 12], [7, 8, 10, 11], [7, 8, 10, 12], [7, 8, 11, 12], [7, 10, 11, 12], [8, 10, 11, 12], [4, 7, 8, 10, 11], [4, 7, 8, 10, 12], [4, 7, 8, 11, 12], [4, 7, 10, 11, 12], [4, 8, 10, 11, 12], [7, 8, 10, 11, 12], [4, 7, 8, 10, 11, 12]]\n"
     ]
    }
   ],
   "source": [
    "from itertools import chain, combinations\n",
    "from sklearn.ensemble import RandomForestClassifier\n",
    "from sklearn.metrics import r2_score, mean_squared_error\n",
    "\n",
    "def powerset(iterable):\n",
    "    s = list(iterable)\n",
    "    return chain.from_iterable(combinations(s, r) for r in range(len(s)+1))\n",
    "\n",
    "set_lst = []\n",
    "\n",
    "for item in list(powerset([4, 7, 8, 10, 11 ,12])):\n",
    "    set_lst.append(list(item))\n",
    "\n",
    "print(set_lst)"
   ]
  },
  {
   "cell_type": "code",
   "execution_count": 46,
   "id": "ecfd8a9c",
   "metadata": {},
   "outputs": [
    {
     "name": "stdout",
     "output_type": "stream",
     "text": [
      "Best features:\n",
      "[7, 8, 10, 11]\n"
     ]
    },
    {
     "data": {
      "image/png": "[encoded data removed]",
      "text/plain": [
       "<Figure size 640x480 with 1 Axes>"
      ]
     },
     "metadata": {},
     "output_type": "display_data"
    }
   ],
   "source": [
    "max_scores = {}\n",
    "scores = []\n",
    "lsts = []\n",
    "for lst in set_lst:\n",
    "    X_train = data.iloc[:1475 , [0] + lst]\n",
    "    X_test = data.iloc[1475:1496, [0] + lst]\n",
    "    rgr = MLPRegressor(max_iter=10000).fit(X_train, y_train)\n",
    "    y_pred = rgr.predict(X_test)\n",
    "    score = r2_score(y_test,y_pred)\n",
    "    scores.append(score)\n",
    "    lsts.append(lst)\n",
    "max_scores[(max(scores))] = scores.index(max(scores))\n",
    "\n",
    "print(\"Best features:\")\n",
    "print(lsts[scores.index(max(scores))])\n",
    "\n",
    "x = list(range(0, len(scores)))\n",
    "plt.plot(x, scores)\n",
    "plt.xlabel(\"Power Set Index\")\n",
    "plt.ylabel(\"R2 Score\")\n",
    "plt.show()"
   ]
  },
  {
   "cell_type": "code",
   "execution_count": 10,
   "id": "ac210071",
   "metadata": {},
   "outputs": [
    {
     "name": "stdout",
     "output_type": "stream",
     "text": [
      "         Open  Previous Day Interest (EFFR)  Previous Mo. Inflation (CPI)  \\\n",
      "0     2139.43                          0.41                           2.2   \n",
      "1     2148.50                          0.41                           2.2   \n",
      "2     2149.72                          0.41                           2.2   \n",
      "3     2136.97                          0.41                           2.2   \n",
      "4     2144.06                          0.41                           2.2   \n",
      "...       ...                           ...                           ...   \n",
      "1470  4153.26                          2.33                           5.9   \n",
      "1471  4198.74                          2.33                           5.9   \n",
      "1472  4034.58                          2.33                           5.9   \n",
      "1473  4041.25                          2.33                           5.9   \n",
      "1474  4000.67                          2.33                           5.9   \n",
      "\n",
      "      Day Range  Months  \n",
      "0         12.54      10  \n",
      "1          7.88      10  \n",
      "2          9.51      10  \n",
      "3         14.14      10  \n",
      "4         14.61      10  \n",
      "...         ...     ...  \n",
      "1470      52.95       8  \n",
      "1471     145.38       8  \n",
      "1472      45.57       8  \n",
      "1473      79.77       8  \n",
      "1474      60.84       8  \n",
      "\n",
      "[1475 rows x 5 columns]\n"
     ]
    }
   ],
   "source": [
    "X_train_f = data.iloc[:1475 , [0, 7, 8, 10, 11]]\n",
    "X_test_f = data.iloc[1475:1496, [0, 7, 8, 10, 11]]\n",
    "print(X_train_f)"
   ]
  },
  {
   "cell_type": "code",
   "execution_count": 30,
   "id": "84139d12",
   "metadata": {},
   "outputs": [
    {
     "name": "stdout",
     "output_type": "stream",
     "text": [
      "-7.835391985036582 72356.05899499543\n"
     ]
    }
   ],
   "source": [
    "r2_avg = 0\n",
    "mse_avg = 0\n",
    "for i in range(100):\n",
    "    rgr = MLPRegressor(max_iter=10000).fit(X_train_f, y_train)\n",
    "    y_pred = rgr.predict(X_test_f)\n",
    "    r2 = r2_score(y_test, y_pred)\n",
    "    r2_avg += r2\n",
    "    mse_avg += mean_squared_error(y_test, y_pred)\n",
    "\n",
    "r2_avg = r2_avg/100\n",
    "mse_avg = mse_avg/100\n",
    "print(r2_avg, mse_avg)"
   ]
  },
  {
   "cell_type": "markdown",
   "id": "f1d3db16",
   "metadata": {},
   "source": [
    "## Normalize data"
   ]
  },
  {
   "cell_type": "code",
   "execution_count": 11,
   "id": "a1c31978",
   "metadata": {},
   "outputs": [],
   "source": [
    "from sklearn.preprocessing import MinMaxScaler\n",
    "\n",
    "scaler = MinMaxScaler().fit(X_train_f)\n",
    "X_train_norm = scaler.transform(X_train_f)\n",
    "X_test_norm = scaler.transform(X_test_f)"
   ]
  },
  {
   "cell_type": "code",
   "execution_count": 48,
   "id": "9e462504",
   "metadata": {},
   "outputs": [
    {
     "name": "stdout",
     "output_type": "stream",
     "text": [
      "-4.924220903399993 48515.47932584682\n"
     ]
    }
   ],
   "source": [
    "r2_avg = 0\n",
    "mse_avg = 0\n",
    "for i in range(5):\n",
    "    rgr = MLPRegressor(max_iter=10000).fit(X_train_norm, y_train)\n",
    "    y_pred = rgr.predict(X_test_norm)\n",
    "    r2 = r2_score(y_test, y_pred)\n",
    "    r2_avg += r2\n",
    "    mse_avg += mean_squared_error(y_test, y_pred)\n",
    "\n",
    "r2_avg = r2_avg/5\n",
    "mse_avg = mse_avg/5\n",
    "print(r2_avg, mse_avg)"
   ]
  },
  {
   "cell_type": "markdown",
   "id": "4bbdc89d",
   "metadata": {},
   "source": [
    "## Hyperparameter optimization"
   ]
  },
  {
   "cell_type": "code",
   "execution_count": null,
   "id": "a23e8372",
   "metadata": {},
   "outputs": [
    {
     "name": "stderr",
     "output_type": "stream",
     "text": [
      "/opt/homebrew/Caskroom/miniforge/base/lib/python3.9/site-packages/sklearn/neural_network/_multilayer_perceptron.py:559: ConvergenceWarning: lbfgs failed to converge (status=1):\n",
      "STOP: TOTAL NO. of ITERATIONS REACHED LIMIT.\n",
      "\n",
      "Increase the number of iterations (max_iter) or scale the data as shown in:\n",
      "    https://scikit-learn.org/stable/modules/preprocessing.html\n",
      "  self.n_iter_ = _check_optimize_result(\"lbfgs\", opt_res, self.max_iter)\n",
      "/opt/homebrew/Caskroom/miniforge/base/lib/python3.9/site-packages/sklearn/neural_network/_multilayer_perceptron.py:559: ConvergenceWarning: lbfgs failed to converge (status=1):\n",
      "STOP: TOTAL NO. of ITERATIONS REACHED LIMIT.\n",
      "\n",
      "Increase the number of iterations (max_iter) or scale the data as shown in:\n",
      "    https://scikit-learn.org/stable/modules/preprocessing.html\n",
      "  self.n_iter_ = _check_optimize_result(\"lbfgs\", opt_res, self.max_iter)\n",
      "/opt/homebrew/Caskroom/miniforge/base/lib/python3.9/site-packages/sklearn/neural_network/_multilayer_perceptron.py:702: ConvergenceWarning: Stochastic Optimizer: Maximum iterations (10000) reached and the optimization hasn't converged yet.\n",
      "  warnings.warn(\n",
      "/opt/homebrew/Caskroom/miniforge/base/lib/python3.9/site-packages/sklearn/neural_network/_multilayer_perceptron.py:702: ConvergenceWarning: Stochastic Optimizer: Maximum iterations (10000) reached and the optimization hasn't converged yet.\n",
      "  warnings.warn(\n",
      "/opt/homebrew/Caskroom/miniforge/base/lib/python3.9/site-packages/sklearn/neural_network/_multilayer_perceptron.py:702: ConvergenceWarning: Stochastic Optimizer: Maximum iterations (10000) reached and the optimization hasn't converged yet.\n",
      "  warnings.warn(\n",
      "/opt/homebrew/Caskroom/miniforge/base/lib/python3.9/site-packages/sklearn/neural_network/_multilayer_perceptron.py:702: ConvergenceWarning: Stochastic Optimizer: Maximum iterations (10000) reached and the optimization hasn't converged yet.\n",
      "  warnings.warn(\n",
      "/opt/homebrew/Caskroom/miniforge/base/lib/python3.9/site-packages/sklearn/neural_network/_multilayer_perceptron.py:702: ConvergenceWarning: Stochastic Optimizer: Maximum iterations (10000) reached and the optimization hasn't converged yet.\n",
      "  warnings.warn(\n",
      "/opt/homebrew/Caskroom/miniforge/base/lib/python3.9/site-packages/sklearn/neural_network/_multilayer_perceptron.py:559: ConvergenceWarning: lbfgs failed to converge (status=1):\n",
      "STOP: TOTAL NO. of ITERATIONS REACHED LIMIT.\n",
      "\n",
      "Increase the number of iterations (max_iter) or scale the data as shown in:\n",
      "    https://scikit-learn.org/stable/modules/preprocessing.html\n",
      "  self.n_iter_ = _check_optimize_result(\"lbfgs\", opt_res, self.max_iter)\n",
      "/opt/homebrew/Caskroom/miniforge/base/lib/python3.9/site-packages/sklearn/neural_network/_multilayer_perceptron.py:559: ConvergenceWarning: lbfgs failed to converge (status=1):\n",
      "STOP: TOTAL NO. of ITERATIONS REACHED LIMIT.\n",
      "\n",
      "Increase the number of iterations (max_iter) or scale the data as shown in:\n",
      "    https://scikit-learn.org/stable/modules/preprocessing.html\n",
      "  self.n_iter_ = _check_optimize_result(\"lbfgs\", opt_res, self.max_iter)\n",
      "/opt/homebrew/Caskroom/miniforge/base/lib/python3.9/site-packages/sklearn/neural_network/_multilayer_perceptron.py:559: ConvergenceWarning: lbfgs failed to converge (status=1):\n",
      "STOP: TOTAL NO. of ITERATIONS REACHED LIMIT.\n",
      "\n",
      "Increase the number of iterations (max_iter) or scale the data as shown in:\n",
      "    https://scikit-learn.org/stable/modules/preprocessing.html\n",
      "  self.n_iter_ = _check_optimize_result(\"lbfgs\", opt_res, self.max_iter)\n",
      "/opt/homebrew/Caskroom/miniforge/base/lib/python3.9/site-packages/sklearn/neural_network/_multilayer_perceptron.py:559: ConvergenceWarning: lbfgs failed to converge (status=1):\n",
      "STOP: TOTAL NO. of ITERATIONS REACHED LIMIT.\n",
      "\n",
      "Increase the number of iterations (max_iter) or scale the data as shown in:\n",
      "    https://scikit-learn.org/stable/modules/preprocessing.html\n",
      "  self.n_iter_ = _check_optimize_result(\"lbfgs\", opt_res, self.max_iter)\n",
      "/opt/homebrew/Caskroom/miniforge/base/lib/python3.9/site-packages/sklearn/neural_network/_multilayer_perceptron.py:559: ConvergenceWarning: lbfgs failed to converge (status=1):\n",
      "STOP: TOTAL NO. of ITERATIONS REACHED LIMIT.\n",
      "\n",
      "Increase the number of iterations (max_iter) or scale the data as shown in:\n",
      "    https://scikit-learn.org/stable/modules/preprocessing.html\n",
      "  self.n_iter_ = _check_optimize_result(\"lbfgs\", opt_res, self.max_iter)\n",
      "/opt/homebrew/Caskroom/miniforge/base/lib/python3.9/site-packages/sklearn/neural_network/_multilayer_perceptron.py:559: ConvergenceWarning: lbfgs failed to converge (status=1):\n",
      "STOP: TOTAL NO. of ITERATIONS REACHED LIMIT.\n",
      "\n",
      "Increase the number of iterations (max_iter) or scale the data as shown in:\n",
      "    https://scikit-learn.org/stable/modules/preprocessing.html\n",
      "  self.n_iter_ = _check_optimize_result(\"lbfgs\", opt_res, self.max_iter)\n",
      "/opt/homebrew/Caskroom/miniforge/base/lib/python3.9/site-packages/sklearn/neural_network/_multilayer_perceptron.py:559: ConvergenceWarning: lbfgs failed to converge (status=1):\n",
      "STOP: TOTAL NO. of ITERATIONS REACHED LIMIT.\n",
      "\n",
      "Increase the number of iterations (max_iter) or scale the data as shown in:\n",
      "    https://scikit-learn.org/stable/modules/preprocessing.html\n",
      "  self.n_iter_ = _check_optimize_result(\"lbfgs\", opt_res, self.max_iter)\n",
      "/opt/homebrew/Caskroom/miniforge/base/lib/python3.9/site-packages/sklearn/neural_network/_multilayer_perceptron.py:559: ConvergenceWarning: lbfgs failed to converge (status=1):\n",
      "STOP: TOTAL NO. of ITERATIONS REACHED LIMIT.\n",
      "\n",
      "Increase the number of iterations (max_iter) or scale the data as shown in:\n",
      "    https://scikit-learn.org/stable/modules/preprocessing.html\n",
      "  self.n_iter_ = _check_optimize_result(\"lbfgs\", opt_res, self.max_iter)\n",
      "/opt/homebrew/Caskroom/miniforge/base/lib/python3.9/site-packages/sklearn/neural_network/_multilayer_perceptron.py:559: ConvergenceWarning: lbfgs failed to converge (status=1):\n",
      "STOP: TOTAL NO. of ITERATIONS REACHED LIMIT.\n",
      "\n",
      "Increase the number of iterations (max_iter) or scale the data as shown in:\n",
      "    https://scikit-learn.org/stable/modules/preprocessing.html\n",
      "  self.n_iter_ = _check_optimize_result(\"lbfgs\", opt_res, self.max_iter)\n",
      "/opt/homebrew/Caskroom/miniforge/base/lib/python3.9/site-packages/sklearn/neural_network/_multilayer_perceptron.py:559: ConvergenceWarning: lbfgs failed to converge (status=1):\n",
      "STOP: TOTAL NO. of ITERATIONS REACHED LIMIT.\n",
      "\n",
      "Increase the number of iterations (max_iter) or scale the data as shown in:\n",
      "    https://scikit-learn.org/stable/modules/preprocessing.html\n",
      "  self.n_iter_ = _check_optimize_result(\"lbfgs\", opt_res, self.max_iter)\n",
      "/opt/homebrew/Caskroom/miniforge/base/lib/python3.9/site-packages/sklearn/utils/extmath.py:152: RuntimeWarning: overflow encountered in matmul\n",
      "  ret = a @ b\n",
      "/opt/homebrew/Caskroom/miniforge/base/lib/python3.9/site-packages/sklearn/utils/extmath.py:152: RuntimeWarning: invalid value encountered in matmul\n",
      "  ret = a @ b\n",
      "/opt/homebrew/Caskroom/miniforge/base/lib/python3.9/site-packages/sklearn/neural_network/_multilayer_perceptron.py:702: ConvergenceWarning: Stochastic Optimizer: Maximum iterations (10000) reached and the optimization hasn't converged yet.\n",
      "  warnings.warn(\n",
      "/opt/homebrew/Caskroom/miniforge/base/lib/python3.9/site-packages/sklearn/utils/extmath.py:152: RuntimeWarning: overflow encountered in matmul\n",
      "  ret = a @ b\n",
      "/opt/homebrew/Caskroom/miniforge/base/lib/python3.9/site-packages/sklearn/utils/extmath.py:152: RuntimeWarning: invalid value encountered in matmul\n",
      "  ret = a @ b\n",
      "/opt/homebrew/Caskroom/miniforge/base/lib/python3.9/site-packages/sklearn/neural_network/_multilayer_perceptron.py:702: ConvergenceWarning: Stochastic Optimizer: Maximum iterations (10000) reached and the optimization hasn't converged yet.\n",
      "  warnings.warn(\n",
      "/opt/homebrew/Caskroom/miniforge/base/lib/python3.9/site-packages/sklearn/utils/extmath.py:152: RuntimeWarning: overflow encountered in matmul\n",
      "  ret = a @ b\n",
      "/opt/homebrew/Caskroom/miniforge/base/lib/python3.9/site-packages/sklearn/utils/extmath.py:152: RuntimeWarning: invalid value encountered in matmul\n",
      "  ret = a @ b\n",
      "/opt/homebrew/Caskroom/miniforge/base/lib/python3.9/site-packages/sklearn/neural_network/_multilayer_perceptron.py:702: ConvergenceWarning: Stochastic Optimizer: Maximum iterations (10000) reached and the optimization hasn't converged yet.\n",
      "  warnings.warn(\n",
      "/opt/homebrew/Caskroom/miniforge/base/lib/python3.9/site-packages/sklearn/utils/extmath.py:152: RuntimeWarning: overflow encountered in matmul\n",
      "  ret = a @ b\n",
      "/opt/homebrew/Caskroom/miniforge/base/lib/python3.9/site-packages/sklearn/utils/extmath.py:152: RuntimeWarning: invalid value encountered in matmul\n",
      "  ret = a @ b\n"
     ]
    }
   ],
   "source": [
    "from sklearn.model_selection import GridSearchCV\n",
    "parameters = {'hidden_layer_sizes': [(500,), (100,100), [50,50,50,50,50]], 'learning_rate_init': [0.001, 0.0001], 'solver': ['lbfgs', 'sgd', 'adam']}\n",
    "\n",
    "rgr = MLPRegressor(max_iter=10000)\n",
    "clf = GridSearchCV(rgr, parameters)\n",
    "clf.fit(X_train_norm, y_train)\n",
    "print(clf.best_params_)"
   ]
  },
  {
   "cell_type": "code",
   "execution_count": null,
   "id": "fa83ff1a",
   "metadata": {},
   "outputs": [],
   "source": [
    "r2_avg = 0\n",
    "mse_avg = 0\n",
    "for i in range(1):\n",
    "    rgr = MLPRegressor(hidden_layer_sizes=(100,100), learning_rate_init=0.0001, max_iter=10000).fit(X_train_norm, y_train)\n",
    "    y_pred = rgr.predict(X_test_norm)\n",
    "    r2_avg += r2_score(y_test, y_pred)\n",
    "    mse_avg += mean_squared_error(y_test, y_pred)\n",
    "\n",
    "r2_avg = r2_avg/1\n",
    "mse_avg = mse_avg/1\n",
    "print(r2_avg, mse_avg)"
   ]
  },
  {
   "cell_type": "code",
   "execution_count": 19,
   "id": "68bc5eb4",
   "metadata": {},
   "outputs": [
    {
     "data": {
      "image/png": "[encoded data removed]",
      "text/plain": [
       "<Figure size 640x480 with 1 Axes>"
      ]
     },
     "metadata": {},
     "output_type": "display_data"
    }
   ],
   "source": [
    "rgr = MLPRegressor(hidden_layer_sizes=(100,100), learning_rate_init=0.0001, max_iter=10000).fit(X_train_norm, y_train)\n",
    "rgr.score(X_train_norm, y_train)\n",
    "plt.plot(rgr.loss_curve_, 'r', label=\"train\")   \n",
    "\n",
    "y_pred = rgr.predict(X_test_norm)\n",
    "#plt.plot(rgr.loss_curve_, 'b', label=\"test\")\n",
    "\n",
    "plt.show()"
   ]
  },
  {
   "cell_type": "code",
   "execution_count": null,
   "id": "139ee115",
   "metadata": {},
   "outputs": [],
   "source": []
  }
 ],
 "metadata": {
  "kernelspec": {
   "display_name": "Python 3 (ipykernel)",
   "language": "python",
   "name": "python3"
  },
  "language_info": {
   "codemirror_mode": {
    "name": "ipython",
    "version": 3
   },
   "file_extension": ".py",
   "mimetype": "text/x-python",
   "name": "python",
   "nbconvert_exporter": "python",
   "pygments_lexer": "ipython3",
   "version": "3.9.13"
  },
  "vscode": {
   "interpreter": {
    "hash": "2d2a8b4bff520b2605366c40f344f1c145561cf092f7cbf51a58b5d6c407d18f"
   }
  }
 },
 "nbformat": 4,
 "nbformat_minor": 5
}
